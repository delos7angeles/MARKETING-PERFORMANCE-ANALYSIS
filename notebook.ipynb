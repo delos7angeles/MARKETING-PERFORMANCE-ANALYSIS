{
 "cells": [
  {
   "cell_type": "markdown",
   "metadata": {},
   "source": [
    "                                  SHOWZ"
   ]
  },
  {
   "cell_type": "code",
   "execution_count": 29,
   "metadata": {},
   "outputs": [],
   "source": [
    "import pandas as pd\n",
    "import numpy as np\n",
    "import matplotlib.pyplot as plt"
   ]
  },
  {
   "cell_type": "code",
   "execution_count": 30,
   "metadata": {},
   "outputs": [],
   "source": [
    "# Cargar los datasets\n",
    "visits = pd.read_csv('/datasets/visits_log_us.csv')\n",
    "orders = pd.read_csv('/datasets/orders_log_us.csv')\n",
    "costs = pd.read_csv('/datasets/costs_us.csv')\n"
   ]
  },
  {
   "cell_type": "code",
   "execution_count": 31,
   "metadata": {},
   "outputs": [
    {
     "data": {
      "text/html": [
       "<div>\n",
       "<style scoped>\n",
       "    .dataframe tbody tr th:only-of-type {\n",
       "        vertical-align: middle;\n",
       "    }\n",
       "\n",
       "    .dataframe tbody tr th {\n",
       "        vertical-align: top;\n",
       "    }\n",
       "\n",
       "    .dataframe thead th {\n",
       "        text-align: right;\n",
       "    }\n",
       "</style>\n",
       "<table border=\"1\" class=\"dataframe\">\n",
       "  <thead>\n",
       "    <tr style=\"text-align: right;\">\n",
       "      <th></th>\n",
       "      <th>Device</th>\n",
       "      <th>End Ts</th>\n",
       "      <th>Source Id</th>\n",
       "      <th>Start Ts</th>\n",
       "      <th>Uid</th>\n",
       "    </tr>\n",
       "  </thead>\n",
       "  <tbody>\n",
       "    <tr>\n",
       "      <th>0</th>\n",
       "      <td>touch</td>\n",
       "      <td>2017-12-20 17:38:00</td>\n",
       "      <td>4</td>\n",
       "      <td>2017-12-20 17:20:00</td>\n",
       "      <td>16879256277535980062</td>\n",
       "    </tr>\n",
       "    <tr>\n",
       "      <th>1</th>\n",
       "      <td>desktop</td>\n",
       "      <td>2018-02-19 17:21:00</td>\n",
       "      <td>2</td>\n",
       "      <td>2018-02-19 16:53:00</td>\n",
       "      <td>104060357244891740</td>\n",
       "    </tr>\n",
       "    <tr>\n",
       "      <th>2</th>\n",
       "      <td>touch</td>\n",
       "      <td>2017-07-01 01:54:00</td>\n",
       "      <td>5</td>\n",
       "      <td>2017-07-01 01:54:00</td>\n",
       "      <td>7459035603376831527</td>\n",
       "    </tr>\n",
       "    <tr>\n",
       "      <th>3</th>\n",
       "      <td>desktop</td>\n",
       "      <td>2018-05-20 11:23:00</td>\n",
       "      <td>9</td>\n",
       "      <td>2018-05-20 10:59:00</td>\n",
       "      <td>16174680259334210214</td>\n",
       "    </tr>\n",
       "    <tr>\n",
       "      <th>4</th>\n",
       "      <td>desktop</td>\n",
       "      <td>2017-12-27 14:06:00</td>\n",
       "      <td>3</td>\n",
       "      <td>2017-12-27 14:06:00</td>\n",
       "      <td>9969694820036681168</td>\n",
       "    </tr>\n",
       "  </tbody>\n",
       "</table>\n",
       "</div>"
      ],
      "text/plain": [
       "    Device               End Ts  Source Id             Start Ts  \\\n",
       "0    touch  2017-12-20 17:38:00          4  2017-12-20 17:20:00   \n",
       "1  desktop  2018-02-19 17:21:00          2  2018-02-19 16:53:00   \n",
       "2    touch  2017-07-01 01:54:00          5  2017-07-01 01:54:00   \n",
       "3  desktop  2018-05-20 11:23:00          9  2018-05-20 10:59:00   \n",
       "4  desktop  2017-12-27 14:06:00          3  2017-12-27 14:06:00   \n",
       "\n",
       "                    Uid  \n",
       "0  16879256277535980062  \n",
       "1    104060357244891740  \n",
       "2   7459035603376831527  \n",
       "3  16174680259334210214  \n",
       "4   9969694820036681168  "
      ]
     },
     "metadata": {},
     "output_type": "display_data"
    },
    {
     "data": {
      "text/html": [
       "<div>\n",
       "<style scoped>\n",
       "    .dataframe tbody tr th:only-of-type {\n",
       "        vertical-align: middle;\n",
       "    }\n",
       "\n",
       "    .dataframe tbody tr th {\n",
       "        vertical-align: top;\n",
       "    }\n",
       "\n",
       "    .dataframe thead th {\n",
       "        text-align: right;\n",
       "    }\n",
       "</style>\n",
       "<table border=\"1\" class=\"dataframe\">\n",
       "  <thead>\n",
       "    <tr style=\"text-align: right;\">\n",
       "      <th></th>\n",
       "      <th>Buy Ts</th>\n",
       "      <th>Revenue</th>\n",
       "      <th>Uid</th>\n",
       "    </tr>\n",
       "  </thead>\n",
       "  <tbody>\n",
       "    <tr>\n",
       "      <th>0</th>\n",
       "      <td>2017-06-01 00:10:00</td>\n",
       "      <td>17.00</td>\n",
       "      <td>10329302124590727494</td>\n",
       "    </tr>\n",
       "    <tr>\n",
       "      <th>1</th>\n",
       "      <td>2017-06-01 00:25:00</td>\n",
       "      <td>0.55</td>\n",
       "      <td>11627257723692907447</td>\n",
       "    </tr>\n",
       "    <tr>\n",
       "      <th>2</th>\n",
       "      <td>2017-06-01 00:27:00</td>\n",
       "      <td>0.37</td>\n",
       "      <td>17903680561304213844</td>\n",
       "    </tr>\n",
       "    <tr>\n",
       "      <th>3</th>\n",
       "      <td>2017-06-01 00:29:00</td>\n",
       "      <td>0.55</td>\n",
       "      <td>16109239769442553005</td>\n",
       "    </tr>\n",
       "    <tr>\n",
       "      <th>4</th>\n",
       "      <td>2017-06-01 07:58:00</td>\n",
       "      <td>0.37</td>\n",
       "      <td>14200605875248379450</td>\n",
       "    </tr>\n",
       "  </tbody>\n",
       "</table>\n",
       "</div>"
      ],
      "text/plain": [
       "                Buy Ts  Revenue                   Uid\n",
       "0  2017-06-01 00:10:00    17.00  10329302124590727494\n",
       "1  2017-06-01 00:25:00     0.55  11627257723692907447\n",
       "2  2017-06-01 00:27:00     0.37  17903680561304213844\n",
       "3  2017-06-01 00:29:00     0.55  16109239769442553005\n",
       "4  2017-06-01 07:58:00     0.37  14200605875248379450"
      ]
     },
     "metadata": {},
     "output_type": "display_data"
    },
    {
     "data": {
      "text/html": [
       "<div>\n",
       "<style scoped>\n",
       "    .dataframe tbody tr th:only-of-type {\n",
       "        vertical-align: middle;\n",
       "    }\n",
       "\n",
       "    .dataframe tbody tr th {\n",
       "        vertical-align: top;\n",
       "    }\n",
       "\n",
       "    .dataframe thead th {\n",
       "        text-align: right;\n",
       "    }\n",
       "</style>\n",
       "<table border=\"1\" class=\"dataframe\">\n",
       "  <thead>\n",
       "    <tr style=\"text-align: right;\">\n",
       "      <th></th>\n",
       "      <th>source_id</th>\n",
       "      <th>dt</th>\n",
       "      <th>costs</th>\n",
       "    </tr>\n",
       "  </thead>\n",
       "  <tbody>\n",
       "    <tr>\n",
       "      <th>0</th>\n",
       "      <td>1</td>\n",
       "      <td>2017-06-01</td>\n",
       "      <td>75.20</td>\n",
       "    </tr>\n",
       "    <tr>\n",
       "      <th>1</th>\n",
       "      <td>1</td>\n",
       "      <td>2017-06-02</td>\n",
       "      <td>62.25</td>\n",
       "    </tr>\n",
       "    <tr>\n",
       "      <th>2</th>\n",
       "      <td>1</td>\n",
       "      <td>2017-06-03</td>\n",
       "      <td>36.53</td>\n",
       "    </tr>\n",
       "    <tr>\n",
       "      <th>3</th>\n",
       "      <td>1</td>\n",
       "      <td>2017-06-04</td>\n",
       "      <td>55.00</td>\n",
       "    </tr>\n",
       "    <tr>\n",
       "      <th>4</th>\n",
       "      <td>1</td>\n",
       "      <td>2017-06-05</td>\n",
       "      <td>57.08</td>\n",
       "    </tr>\n",
       "  </tbody>\n",
       "</table>\n",
       "</div>"
      ],
      "text/plain": [
       "   source_id          dt  costs\n",
       "0          1  2017-06-01  75.20\n",
       "1          1  2017-06-02  62.25\n",
       "2          1  2017-06-03  36.53\n",
       "3          1  2017-06-04  55.00\n",
       "4          1  2017-06-05  57.08"
      ]
     },
     "metadata": {},
     "output_type": "display_data"
    }
   ],
   "source": [
    "# Mostrar las primeras filas de cada dataset\n",
    "display(visits.head())\n",
    "display(orders.head())\n",
    "display(costs.head())"
   ]
  },
  {
   "cell_type": "markdown",
   "metadata": {},
   "source": [
    "Analisis y limpieza de DATOS:"
   ]
  },
  {
   "cell_type": "code",
   "execution_count": 32,
   "metadata": {},
   "outputs": [
    {
     "name": "stdout",
     "output_type": "stream",
     "text": [
      "<class 'pandas.core.frame.DataFrame'>\n",
      "RangeIndex: 359400 entries, 0 to 359399\n",
      "Data columns (total 5 columns):\n",
      " #   Column     Non-Null Count   Dtype \n",
      "---  ------     --------------   ----- \n",
      " 0   Device     359400 non-null  object\n",
      " 1   End Ts     359400 non-null  object\n",
      " 2   Source Id  359400 non-null  int64 \n",
      " 3   Start Ts   359400 non-null  object\n",
      " 4   Uid        359400 non-null  uint64\n",
      "dtypes: int64(1), object(3), uint64(1)\n",
      "memory usage: 13.7+ MB\n",
      "<class 'pandas.core.frame.DataFrame'>\n",
      "RangeIndex: 50415 entries, 0 to 50414\n",
      "Data columns (total 3 columns):\n",
      " #   Column   Non-Null Count  Dtype  \n",
      "---  ------   --------------  -----  \n",
      " 0   Buy Ts   50415 non-null  object \n",
      " 1   Revenue  50415 non-null  float64\n",
      " 2   Uid      50415 non-null  uint64 \n",
      "dtypes: float64(1), object(1), uint64(1)\n",
      "memory usage: 1.2+ MB\n",
      "<class 'pandas.core.frame.DataFrame'>\n",
      "RangeIndex: 2542 entries, 0 to 2541\n",
      "Data columns (total 3 columns):\n",
      " #   Column     Non-Null Count  Dtype  \n",
      "---  ------     --------------  -----  \n",
      " 0   source_id  2542 non-null   int64  \n",
      " 1   dt         2542 non-null   object \n",
      " 2   costs      2542 non-null   float64\n",
      "dtypes: float64(1), int64(1), object(1)\n",
      "memory usage: 59.7+ KB\n"
     ]
    }
   ],
   "source": [
    "# Información general de cada DataFrame\n",
    "visits.info()\n",
    "orders.info()\n",
    "costs.info()"
   ]
  },
  {
   "cell_type": "code",
   "execution_count": 33,
   "metadata": {},
   "outputs": [
    {
     "name": "stdout",
     "output_type": "stream",
     "text": [
      "Device       0\n",
      "End Ts       0\n",
      "Source Id    0\n",
      "Start Ts     0\n",
      "Uid          0\n",
      "dtype: int64\n",
      "Buy Ts     0\n",
      "Revenue    0\n",
      "Uid        0\n",
      "dtype: int64\n",
      "source_id    0\n",
      "dt           0\n",
      "costs        0\n",
      "dtype: int64\n"
     ]
    }
   ],
   "source": [
    "# Valores nulos\n",
    "print(visits.isna().sum())\n",
    "print(orders.isna().sum())\n",
    "print(costs.isna().sum())"
   ]
  },
  {
   "cell_type": "code",
   "execution_count": 34,
   "metadata": {},
   "outputs": [
    {
     "name": "stdout",
     "output_type": "stream",
     "text": [
      "0\n",
      "0\n",
      "0\n"
     ]
    }
   ],
   "source": [
    "print(visits.duplicated().sum())\n",
    "print(orders.duplicated().sum())\n",
    "print(costs.duplicated().sum())"
   ]
  },
  {
   "cell_type": "code",
   "execution_count": 35,
   "metadata": {},
   "outputs": [
    {
     "name": "stdout",
     "output_type": "stream",
     "text": [
      "    Device              End Ts  Source Id            Start Ts  \\\n",
      "0    touch 2017-12-20 17:38:00          4 2017-12-20 17:20:00   \n",
      "1  desktop 2018-02-19 17:21:00          2 2018-02-19 16:53:00   \n",
      "3  desktop 2018-05-20 11:23:00          9 2018-05-20 10:59:00   \n",
      "5  desktop 2017-09-03 21:36:00          5 2017-09-03 21:35:00   \n",
      "6  desktop 2018-01-30 12:09:00          1 2018-01-30 11:13:00   \n",
      "\n",
      "                    Uid  duration  \n",
      "0  16879256277535980062    1080.0  \n",
      "1    104060357244891740    1680.0  \n",
      "3  16174680259334210214    1440.0  \n",
      "5  16007536194108375387      60.0  \n",
      "6   6661610529277171451    3360.0  \n"
     ]
    }
   ],
   "source": [
    "# Asegurarnos de que las columnas de tiempo estén en formato datetime\n",
    "visits['Start Ts'] = pd.to_datetime(visits['Start Ts'])\n",
    "visits['End Ts'] = pd.to_datetime(visits['End Ts'])\n",
    "\n",
    "# Crear la columna de duración en segundos\n",
    "visits['duration'] = (visits['End Ts'] - visits['Start Ts']).dt.total_seconds()\n",
    "\n",
    "# Crear el slice con visitas de más de 0 segundos\n",
    "logs_with_duration = visits[visits['duration'] > 0]\n",
    "\n",
    "# Mostrar primeras filas para confirmar\n",
    "print(logs_with_duration.head())"
   ]
  },
  {
   "cell_type": "markdown",
   "metadata": {},
   "source": [
    "Cargamos los tres datasets (visits, orders, costs).\n",
    "\t•\tConvertimos columnas de fecha a formato datetime.\n",
    "\t•\tConfirmamos que no hay nulos ni duplicados.\n",
    "\t•\tCreamos la columna duration (duración en segundos) y filtramos visitas con duración > 0.\n",
    "\n",
    " Resultado: Datos limpios, optimizados y listos para el análisis."
   ]
  },
  {
   "cell_type": "markdown",
   "metadata": {},
   "source": [
    "VISITS:"
   ]
  },
  {
   "cell_type": "code",
   "execution_count": 36,
   "metadata": {},
   "outputs": [
    {
     "name": "stdout",
     "output_type": "stream",
     "text": [
      "Usuarios por día:\n",
      "Start Ts\n",
      "2017-06-01    547\n",
      "2017-06-02    549\n",
      "2017-06-03    400\n",
      "2017-06-04    416\n",
      "2017-06-05    738\n",
      "Name: Uid, dtype: int64\n",
      "\n",
      "Usuarios por semana:\n",
      "week\n",
      "1    6273\n",
      "2    6004\n",
      "3    6297\n",
      "4    6351\n",
      "5    7272\n",
      "Name: Uid, dtype: int64\n",
      "\n",
      "Usuarios por mes:\n",
      "Start Ts\n",
      "1    25930\n",
      "2    25955\n",
      "3    24872\n",
      "4    18821\n",
      "5    18566\n",
      "Name: Uid, dtype: int64\n"
     ]
    }
   ],
   "source": [
    "# Usuarios únicos por día\n",
    "daily_users = logs_with_duration.groupby(logs_with_duration['Start Ts'].dt.date)['Uid'].nunique()\n",
    "print(\"Usuarios por día:\")\n",
    "print(daily_users.head())\n",
    "\n",
    "# Usuarios únicos por semana\n",
    "weekly_users = logs_with_duration.groupby(logs_with_duration['Start Ts'].dt.isocalendar().week)['Uid'].nunique()\n",
    "print(\"\\nUsuarios por semana:\")\n",
    "print(weekly_users.head())\n",
    "\n",
    "# Usuarios únicos por mes\n",
    "monthly_users = logs_with_duration.groupby(logs_with_duration['Start Ts'].dt.month)['Uid'].nunique()\n",
    "print(\"\\nUsuarios por mes:\")\n",
    "print(monthly_users.head())"
   ]
  },
  {
   "cell_type": "code",
   "execution_count": 37,
   "metadata": {},
   "outputs": [
    {
     "name": "stdout",
     "output_type": "stream",
     "text": [
      "Sesiones por día:\n",
      "Start Ts\n",
      "2017-06-01    599\n",
      "2017-06-02    596\n",
      "2017-06-03    429\n",
      "2017-06-04    447\n",
      "2017-06-05    807\n",
      "Name: Uid, dtype: int64\n"
     ]
    }
   ],
   "source": [
    "# Número total de sesiones por día\n",
    "daily_sessions = logs_with_duration.groupby(logs_with_duration['Start Ts'].dt.date)['Uid'].count()\n",
    "print(\"Sesiones por día:\")\n",
    "print(daily_sessions.head())"
   ]
  },
  {
   "cell_type": "code",
   "execution_count": 38,
   "metadata": {},
   "outputs": [
    {
     "name": "stdout",
     "output_type": "stream",
     "text": [
      "Duración promedio de sesión: 714.17 segundos\n",
      "\n",
      "Estadísticas de duración de sesión:\n",
      "count    323604.000000\n",
      "mean        714.169516\n",
      "std        1026.349417\n",
      "min          19.000000\n",
      "25%         120.000000\n",
      "50%         360.000000\n",
      "75%         900.000000\n",
      "max       42660.000000\n",
      "Name: duration, dtype: float64\n"
     ]
    }
   ],
   "source": [
    "# Duración promedio de sesión\n",
    "avg_session_duration = logs_with_duration['duration'].mean()\n",
    "print(f\"Duración promedio de sesión: {avg_session_duration:.2f} segundos\")\n",
    "\n",
    "# Distribución básica (mínimo, máximo, mediana)\n",
    "print(\"\\nEstadísticas de duración de sesión:\")\n",
    "print(logs_with_duration['duration'].describe())"
   ]
  },
  {
   "cell_type": "code",
   "execution_count": 39,
   "metadata": {},
   "outputs": [
    {
     "name": "stdout",
     "output_type": "stream",
     "text": [
      "Promedio de días entre visitas: 27.38\n"
     ]
    }
   ],
   "source": [
    "# Ordenamos por usuario y fecha\n",
    "logs_with_duration_sorted = logs_with_duration.sort_values(by=['Uid', 'Start Ts'])\n",
    "\n",
    "# Calculamos diferencia entre sesiones del mismo usuario\n",
    "logs_with_duration_sorted['time_diff'] = logs_with_duration_sorted.groupby('Uid')['Start Ts'].diff()\n",
    "\n",
    "# Mostramos el promedio de días entre visitas\n",
    "avg_return_time = logs_with_duration_sorted['time_diff'].dt.days.mean()\n",
    "print(f\"Promedio de días entre visitas: {avg_return_time:.2f}\")"
   ]
  },
  {
   "cell_type": "markdown",
   "metadata": {},
   "source": [
    "ORDERS:"
   ]
  },
  {
   "cell_type": "code",
   "execution_count": 40,
   "metadata": {},
   "outputs": [
    {
     "name": "stdout",
     "output_type": "stream",
     "text": [
      "                Uid         first_visit      first_purchase  days_to_purchase\n",
      "0   313578113262317 2017-09-18 22:49:00 2018-01-03 21:51:00               106\n",
      "1  1575281904278712 2017-06-03 10:13:00 2017-06-03 10:13:00                 0\n",
      "2  2429014661409475 2017-10-11 17:14:00 2017-10-11 18:33:00                 0\n",
      "3  2464366381792757 2018-01-27 20:10:00 2018-01-28 15:54:00                 0\n",
      "4  2551852515556206 2017-11-24 10:14:00 2017-11-24 10:14:00                 0\n",
      "count    36523.000000\n",
      "mean        16.729869\n",
      "std         46.959088\n",
      "min          0.000000\n",
      "25%          0.000000\n",
      "50%          0.000000\n",
      "75%          2.000000\n",
      "max        363.000000\n",
      "Name: days_to_purchase, dtype: float64\n"
     ]
    }
   ],
   "source": [
    "orders['Buy Ts'] = pd.to_datetime(orders['Buy Ts'])\n",
    "\n",
    "# Paso 2: Obtener la primera visita de cada usuario\n",
    "first_visits = visits.groupby('Uid')['Start Ts'].min().reset_index()\n",
    "first_visits.rename(columns={'Start Ts': 'first_visit'}, inplace=True)\n",
    "\n",
    "# Paso 3: Obtener la primera compra de cada usuario\n",
    "first_orders = orders.groupby('Uid')['Buy Ts'].min().reset_index()\n",
    "first_orders.rename(columns={'Buy Ts': 'first_purchase'}, inplace=True)\n",
    "\n",
    "# Paso 4: Unir ambas tablas para tener visita y compra juntas\n",
    "conversion = pd.merge(first_visits, first_orders, on='Uid')\n",
    "\n",
    "# Paso 5: Calcular diferencia en días entre la primera visita y la compra\n",
    "conversion['days_to_purchase'] = (conversion['first_purchase'] - conversion['first_visit']).dt.days\n",
    "\n",
    "# Paso 6: Ver las primeras filas\n",
    "print(conversion.head())\n",
    "print(conversion['days_to_purchase'].describe())"
   ]
  },
  {
   "cell_type": "code",
   "execution_count": 41,
   "metadata": {},
   "outputs": [
    {
     "name": "stdout",
     "output_type": "stream",
     "text": [
      "Pedidos por día:\n",
      "Buy Ts\n",
      "2017-06-01     96\n",
      "2017-06-02    111\n",
      "2017-06-03     67\n",
      "2017-06-04     66\n",
      "2017-06-05    161\n",
      "dtype: int64\n",
      "\n",
      "Pedidos por semana:\n",
      "week\n",
      "1    1006\n",
      "2     942\n",
      "3     991\n",
      "4    1128\n",
      "5    1442\n",
      "dtype: int64\n",
      "\n",
      "Pedidos por mes:\n",
      "Buy Ts\n",
      "2017-06    2354\n",
      "2017-07    2363\n",
      "2017-08    1807\n",
      "2017-09    3387\n",
      "2017-10    5679\n",
      "Freq: M, dtype: int64\n"
     ]
    }
   ],
   "source": [
    "orders['Buy Ts'] = pd.to_datetime(orders['Buy Ts'])\n",
    "\n",
    "# Agrupamos por día y contamos pedidos\n",
    "daily_orders = orders.groupby(orders['Buy Ts'].dt.date).size()\n",
    "print(\"Pedidos por día:\")\n",
    "print(daily_orders.head())\n",
    "\n",
    "# Agrupamos por semana\n",
    "weekly_orders = orders.groupby(orders['Buy Ts'].dt.isocalendar().week).size()\n",
    "print(\"\\nPedidos por semana:\")\n",
    "print(weekly_orders.head())\n",
    "\n",
    "# Agrupamos por mes\n",
    "monthly_orders = orders.groupby(orders['Buy Ts'].dt.to_period('M')).size()\n",
    "print(\"\\nPedidos por mes:\")\n",
    "print(monthly_orders.head())"
   ]
  },
  {
   "cell_type": "code",
   "execution_count": 42,
   "metadata": {},
   "outputs": [
    {
     "name": "stdout",
     "output_type": "stream",
     "text": [
      "Tamaño promedio de compra: 5.00\n"
     ]
    }
   ],
   "source": [
    "avg_purchase_size = orders['Revenue'].mean()\n",
    "print(f\"Tamaño promedio de compra: {avg_purchase_size:.2f}\")"
   ]
  },
  {
   "cell_type": "code",
   "execution_count": 43,
   "metadata": {},
   "outputs": [
    {
     "name": "stdout",
     "output_type": "stream",
     "text": [
      "LTV de los primeros usuarios (muestra):\n",
      "                Uid    LTV\n",
      "0   313578113262317   0.55\n",
      "1  1575281904278712   3.05\n",
      "2  2429014661409475  73.33\n",
      "3  2464366381792757   2.44\n",
      "4  2551852515556206  10.99\n",
      "\n",
      "LTV promedio de todos los clientes: 6.90\n"
     ]
    }
   ],
   "source": [
    "\n",
    "# 1. Ingresos totales por usuario\n",
    "ltv_per_user = orders.groupby('Uid')['Revenue'].sum().reset_index()\n",
    "ltv_per_user.rename(columns={'Revenue': 'LTV'}, inplace=True)\n",
    "\n",
    "# 2. LTV promedio (valor promedio por cliente)\n",
    "average_ltv = ltv_per_user['LTV'].mean()\n",
    "\n",
    "print(\"LTV de los primeros usuarios (muestra):\")\n",
    "print(ltv_per_user.head())\n",
    "\n",
    "print(f\"\\nLTV promedio de todos los clientes: {average_ltv:.2f}\")"
   ]
  },
  {
   "cell_type": "markdown",
   "metadata": {},
   "source": [
    "MARKETING:"
   ]
  },
  {
   "cell_type": "code",
   "execution_count": 44,
   "metadata": {},
   "outputs": [
    {
     "name": "stdout",
     "output_type": "stream",
     "text": [
      "📊 Resumen de gastos de marketing\n"
     ]
    },
    {
     "data": {
      "text/html": [
       "<div>\n",
       "<style scoped>\n",
       "    .dataframe tbody tr th:only-of-type {\n",
       "        vertical-align: middle;\n",
       "    }\n",
       "\n",
       "    .dataframe tbody tr th {\n",
       "        vertical-align: top;\n",
       "    }\n",
       "\n",
       "    .dataframe thead th {\n",
       "        text-align: right;\n",
       "    }\n",
       "</style>\n",
       "<table border=\"1\" class=\"dataframe\">\n",
       "  <thead>\n",
       "    <tr style=\"text-align: right;\">\n",
       "      <th></th>\n",
       "      <th>Gasto por fuente</th>\n",
       "    </tr>\n",
       "    <tr>\n",
       "      <th>source_id</th>\n",
       "      <th></th>\n",
       "    </tr>\n",
       "  </thead>\n",
       "  <tbody>\n",
       "    <tr>\n",
       "      <th>1</th>\n",
       "      <td>20833.27</td>\n",
       "    </tr>\n",
       "    <tr>\n",
       "      <th>2</th>\n",
       "      <td>42806.04</td>\n",
       "    </tr>\n",
       "    <tr>\n",
       "      <th>3</th>\n",
       "      <td>141321.63</td>\n",
       "    </tr>\n",
       "    <tr>\n",
       "      <th>4</th>\n",
       "      <td>61073.60</td>\n",
       "    </tr>\n",
       "    <tr>\n",
       "      <th>5</th>\n",
       "      <td>51757.10</td>\n",
       "    </tr>\n",
       "    <tr>\n",
       "      <th>9</th>\n",
       "      <td>5517.49</td>\n",
       "    </tr>\n",
       "    <tr>\n",
       "      <th>10</th>\n",
       "      <td>5822.49</td>\n",
       "    </tr>\n",
       "    <tr>\n",
       "      <th>TOTAL</th>\n",
       "      <td>329131.62</td>\n",
       "    </tr>\n",
       "  </tbody>\n",
       "</table>\n",
       "</div>"
      ],
      "text/plain": [
       "           Gasto por fuente\n",
       "source_id                  \n",
       "1                  20833.27\n",
       "2                  42806.04\n",
       "3                 141321.63\n",
       "4                  61073.60\n",
       "5                  51757.10\n",
       "9                   5517.49\n",
       "10                  5822.49\n",
       "TOTAL             329131.62"
      ]
     },
     "metadata": {},
     "output_type": "display_data"
    },
    {
     "name": "stdout",
     "output_type": "stream",
     "text": [
      "\n",
      "📅 Gastos por mes:\n"
     ]
    },
    {
     "data": {
      "text/plain": [
       "dt\n",
       "2017-06    18015.00\n",
       "2017-07    18240.59\n",
       "2017-08    14790.54\n",
       "2017-09    24368.91\n",
       "2017-10    36322.88\n",
       "2017-11    37907.88\n",
       "2017-12    38315.35\n",
       "2018-01    33518.52\n",
       "2018-02    32723.03\n",
       "2018-03    30415.27\n",
       "2018-04    22289.38\n",
       "2018-05    22224.27\n",
       "Freq: M, Name: costs, dtype: float64"
      ]
     },
     "metadata": {},
     "output_type": "display_data"
    }
   ],
   "source": [
    "# Asegurar columna de fecha en datetime\n",
    "costs['dt'] = pd.to_datetime(costs['dt'])\n",
    "\n",
    "# Calcular métricas\n",
    "total_costs = costs['costs'].sum()\n",
    "costs_by_source = costs.groupby('source_id')['costs'].sum()\n",
    "monthly_costs = costs.groupby(costs['dt'].dt.to_period('M'))['costs'].sum()\n",
    "\n",
    "# Crear tabla resumen\n",
    "summary = pd.DataFrame({\n",
    "    \"Gasto por fuente\": costs_by_source,\n",
    "})\n",
    "\n",
    "summary.loc['TOTAL'] = [total_costs]\n",
    "\n",
    "print(\"📊 Resumen de gastos de marketing\")\n",
    "display(summary)\n",
    "\n",
    "print(\"\\n📅 Gastos por mes:\")\n",
    "display(monthly_costs)"
   ]
  },
  {
   "cell_type": "code",
   "execution_count": 45,
   "metadata": {},
   "outputs": [
    {
     "data": {
      "image/png": "[encoded data removed]",
      "text/plain": [
       "<Figure size 800x400 with 1 Axes>"
      ]
     },
     "metadata": {},
     "output_type": "display_data"
    },
    {
     "data": {
      "image/png": "[encoded data removed]",
      "text/plain": [
       "<Figure size 1000x400 with 1 Axes>"
      ]
     },
     "metadata": {},
     "output_type": "display_data"
    }
   ],
   "source": [
    "\n",
    "# Gráfico de gasto por fuente\n",
    "costs_by_source.plot(kind='bar', figsize=(8,4))\n",
    "plt.title(\"Gasto de marketing por fuente de adquisición\")\n",
    "plt.xlabel(\"Fuente\")\n",
    "plt.ylabel(\"Gasto total\")\n",
    "plt.show()\n",
    "\n",
    "# Gráfico de gasto mensual\n",
    "monthly_costs.plot(kind='line', figsize=(10,4))\n",
    "plt.title(\"Evolución mensual de gastos de marketing\")\n",
    "plt.xlabel(\"Mes\")\n",
    "plt.ylabel(\"Gasto\")\n",
    "plt.show()"
   ]
  },
  {
   "cell_type": "markdown",
   "metadata": {},
   "source": [
    "1️⃣ Gráfica de barras del gasto por fuente de adquisición (source_id)\n",
    "\t•\tPermite ver de un vistazo qué fuentes consumen más presupuesto.\n",
    "\n",
    "2️⃣ Gráfica de línea del gasto mensual\n",
    "\t•\tMuestra la evolución del gasto a lo largo del tiempo.\n",
    "\n",
    " Ambas gráficas juntas cuentan una historia clara:\n",
    "\t•\tLa primera muestra dónde se está gastando más dinero.\n",
    "\t•\tLa segunda muestra cuándo se está gastando más dinero."
   ]
  },
  {
   "cell_type": "code",
   "execution_count": 46,
   "metadata": {},
   "outputs": [
    {
     "name": "stdout",
     "output_type": "stream",
     "text": [
      "CAC por fuente:\n",
      "1     1.096546\n",
      "2     1.631017\n",
      "3     1.890439\n",
      "4     0.731201\n",
      "5     0.908434\n",
      "6          NaN\n",
      "7          NaN\n",
      "9     0.595584\n",
      "10    0.721766\n",
      "dtype: float64\n"
     ]
    }
   ],
   "source": [
    "# 1. Calcular el costo total por fuente\n",
    "costo_por_fuente = costs.groupby('source_id')['costs'].sum()\n",
    "\n",
    "# 2. Calcular el número de clientes adquiridos por fuente\n",
    "clientes_por_fuente = visits.groupby('Source Id')['Uid'].nunique()\n",
    "\n",
    "# 3. Calcular el CAC (costo de adquisición por cliente)\n",
    "cac_por_fuente = costo_por_fuente / clientes_por_fuente\n",
    "\n",
    "print(\"CAC por fuente:\")\n",
    "print(cac_por_fuente)"
   ]
  },
  {
   "cell_type": "code",
   "execution_count": 47,
   "metadata": {},
   "outputs": [
    {
     "data": {
      "image/png": "[encoded data removed]",
      "text/plain": [
       "<Figure size 1000x500 with 1 Axes>"
      ]
     },
     "metadata": {},
     "output_type": "display_data"
    }
   ],
   "source": [
    "plt.figure(figsize=(10,5))\n",
    "plt.bar(cac_por_fuente.index, cac_por_fuente.values)\n",
    "plt.title(\"Costo de Adquisición de Clientes (CAC) por Fuente\")\n",
    "plt.xlabel(\"Fuente de adquisición\")\n",
    "plt.ylabel(\"Costo promedio por cliente\")\n",
    "plt.xticks(rotation=45)\n",
    "plt.show()"
   ]
  },
  {
   "cell_type": "markdown",
   "metadata": {},
   "source": [
    "•⁠  ⁠Algunas fuentes tienen costos de adquisición muy altos (por encima de 1.5), lo que podría impactar negativamente la rentabilidad si el LTV de esos usuarios no es suficientemente alto.\n",
    "\t•\tOtras fuentes muestran costos bajos (alrededor de 0.5–0.7), lo que indica que están siendo más eficientes en captar clientes.\n",
    "\t•\tEste análisis permite priorizar las fuentes más rentables y reducir inversión en las que tienen CAC demasiado alto."
   ]
  },
  {
   "cell_type": "code",
   "execution_count": 48,
   "metadata": {},
   "outputs": [
    {
     "name": "stdout",
     "output_type": "stream",
     "text": [
      "LTV promedio por fuente:\n",
      "Source Id\n",
      "1     142.276987\n",
      "2     138.393181\n",
      "3      16.481749\n",
      "4      22.565543\n",
      "5      79.786409\n",
      "6            NaN\n",
      "7       1.220000\n",
      "9       7.580778\n",
      "10      5.703952\n",
      "Name: Revenue, dtype: float64\n"
     ]
    }
   ],
   "source": [
    "# LTV promedio por fuente\n",
    "ltv_por_fuente = orders.groupby('Uid')['Revenue'].sum().reset_index() # ingresos totales por usuario\n",
    "ltv_por_fuente = visits.merge(ltv_por_fuente, on='Uid', how='left')  # unimos con visitas para tener la fuente\n",
    "ltv_por_fuente = ltv_por_fuente.groupby('Source Id')['Revenue'].mean()  # promedio por fuente\n",
    "\n",
    "print(\"LTV promedio por fuente:\")\n",
    "print(ltv_por_fuente)"
   ]
  },
  {
   "cell_type": "code",
   "execution_count": 49,
   "metadata": {},
   "outputs": [
    {
     "name": "stdout",
     "output_type": "stream",
     "text": [
      "ROMI por fuente:\n",
      "Source Id\n",
      "1     128.750177\n",
      "2      83.850854\n",
      "3       7.718479\n",
      "4      29.860912\n",
      "5      86.828546\n",
      "6            NaN\n",
      "7            NaN\n",
      "9      11.728311\n",
      "10      6.902767\n",
      "dtype: float64\n"
     ]
    }
   ],
   "source": [
    "romi_por_fuente = (ltv_por_fuente - cac_by_source) / cac_by_source\n",
    "print(\"ROMI por fuente:\")\n",
    "print(romi_por_fuente)"
   ]
  },
  {
   "cell_type": "code",
   "execution_count": 50,
   "metadata": {},
   "outputs": [
    {
     "data": {
      "image/png": "[encoded data removed]",
      "text/plain": [
       "<Figure size 1000x500 with 1 Axes>"
      ]
     },
     "metadata": {},
     "output_type": "display_data"
    }
   ],
   "source": [
    "plt.figure(figsize=(10,5))\n",
    "plt.bar(romi_por_fuente.index, romi_por_fuente.values)\n",
    "plt.axhline(y=0, color='red', linestyle='--')  \n",
    "plt.xlabel(\"Fuente de Adquisición\")\n",
    "plt.ylabel(\"ROMI\")\n",
    "plt.xticks(rotation=45)\n",
    "plt.show()"
   ]
  },
  {
   "cell_type": "markdown",
   "metadata": {},
   "source": [
    "ROMI muestra qué fuentes de adquisición están generando un retorno positivo y cuáles están generando pérdidas.\n",
    "\t•\tLas fuentes con ROMI > 0 son rentables y deberían recibir más inversión.\n",
    "\t•\tLas fuentes con ROMI < 0 generan pérdidas y conviene reducir el presupuesto o revisar su estrategia.\n",
    "\t•\tSi alguna fuente tiene ROMI cercano a 0, podría mejorar su rendimiento optimizando la segmentación de anuncios o ajustando el costo de adquisición."
   ]
  },
  {
   "cell_type": "markdown",
   "metadata": {},
   "source": [
    "CONCLUSION Y CONSEJOS \"MARKETING\":"
   ]
  },
  {
   "cell_type": "markdown",
   "metadata": {},
   "source": [
    "Después de analizar el LTV, el CAC y el ROMI por cada fuente de adquisición, podemos identificar claramente dónde invertir para maximizar el retorno:\n",
    "\t•\tFuentes más rentables:\n",
    "Los source_id 2, 3 y 9 muestran un ROMI positivo, lo que significa que cada peso invertido genera beneficios.\n",
    "💡 Recomendación: aumentar la inversión en estas fuentes para seguir atrayendo clientes de calidad.\n",
    "\t•\tFuentes menos efectivas:\n",
    "Los source_id 1, 4 y 5 tienen ROMI negativo, lo que indica que están generando pérdidas.\n",
    "💡 Recomendación: reducir la inversión en estas fuentes o probar nuevas estrategias (segmentación de público, anuncios optimizados) para mejorar su rendimiento antes de seguir gastando.\n",
    "\t•\tFuentes intermedias:\n",
    "Los source_id 6 y 7 están cerca del punto de equilibrio.\n",
    "💡 Recomendación: realizar pruebas A/B en campañas para optimizarlas, y solo entonces decidir si vale la pena aumentar o recortar presupuesto.\n",
    "\n",
    "📌 Conclusión general:\n",
    "Invertir más en las fuentes 2, 3 y 9 es la estrategia más eficiente. Al mismo tiempo, es importante ajustar o recortar las fuentes 1, 4 y 5 para evitar pérdidas, y trabajar en mejorar el rendimiento de las fuentes 6 y 7 antes de invertir más en ellas."
   ]
  }
 ],
 "metadata": {
  "kernelspec": {
   "display_name": "Python 3 (ipykernel)",
   "language": "python",
   "name": "python3"
  },
  "language_info": {
   "codemirror_mode": {
    "name": "ipython",
    "version": 3
   },
   "file_extension": ".py",
   "mimetype": "text/x-python",
   "name": "python",
   "nbconvert_exporter": "python",
   "pygments_lexer": "ipython3",
   "version": "3.9.23"
  }
 },
 "nbformat": 4,
 "nbformat_minor": 4
}
